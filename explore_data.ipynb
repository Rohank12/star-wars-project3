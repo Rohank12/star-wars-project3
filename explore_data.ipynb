{
 "cells": [
  {
   "cell_type": "code",
   "execution_count": 1,
   "metadata": {},
   "outputs": [],
   "source": [
    "import pandas as pd\n",
    "import seaborn as sns"
   ]
  },
  {
   "cell_type": "code",
   "execution_count": 3,
   "metadata": {},
   "outputs": [
    {
     "data": {
      "text/html": [
       "<div>\n",
       "<style scoped>\n",
       "    .dataframe tbody tr th:only-of-type {\n",
       "        vertical-align: middle;\n",
       "    }\n",
       "\n",
       "    .dataframe tbody tr th {\n",
       "        vertical-align: top;\n",
       "    }\n",
       "\n",
       "    .dataframe thead th {\n",
       "        text-align: right;\n",
       "    }\n",
       "</style>\n",
       "<table border=\"1\" class=\"dataframe\">\n",
       "  <thead>\n",
       "    <tr style=\"text-align: right;\">\n",
       "      <th></th>\n",
       "      <th>timestamp</th>\n",
       "      <th>unit_id</th>\n",
       "      <th>unit_type</th>\n",
       "      <th>empire_or_resistance</th>\n",
       "      <th>location_x</th>\n",
       "      <th>location_y</th>\n",
       "      <th>destination_x</th>\n",
       "      <th>destination_y</th>\n",
       "      <th>homeworld</th>\n",
       "    </tr>\n",
       "  </thead>\n",
       "  <tbody>\n",
       "    <tr>\n",
       "      <th>0</th>\n",
       "      <td>2024-07-11 11:49:05</td>\n",
       "      <td>1</td>\n",
       "      <td>resistance_soldier</td>\n",
       "      <td>empire</td>\n",
       "      <td>5</td>\n",
       "      <td>5</td>\n",
       "      <td>10</td>\n",
       "      <td>1</td>\n",
       "      <td>Alderaan</td>\n",
       "    </tr>\n",
       "    <tr>\n",
       "      <th>1</th>\n",
       "      <td>2024-07-11 11:49:04</td>\n",
       "      <td>2</td>\n",
       "      <td>at-st</td>\n",
       "      <td>resistance</td>\n",
       "      <td>7</td>\n",
       "      <td>6</td>\n",
       "      <td>4</td>\n",
       "      <td>8</td>\n",
       "      <td>Corellia</td>\n",
       "    </tr>\n",
       "    <tr>\n",
       "      <th>2</th>\n",
       "      <td>2024-07-11 11:49:03</td>\n",
       "      <td>3</td>\n",
       "      <td>at-at</td>\n",
       "      <td>resistance</td>\n",
       "      <td>4</td>\n",
       "      <td>4</td>\n",
       "      <td>6</td>\n",
       "      <td>3</td>\n",
       "      <td>Eriadu</td>\n",
       "    </tr>\n",
       "    <tr>\n",
       "      <th>3</th>\n",
       "      <td>2024-07-11 11:49:02</td>\n",
       "      <td>4</td>\n",
       "      <td>at-at</td>\n",
       "      <td>empire</td>\n",
       "      <td>10</td>\n",
       "      <td>1</td>\n",
       "      <td>8</td>\n",
       "      <td>7</td>\n",
       "      <td>Skako</td>\n",
       "    </tr>\n",
       "    <tr>\n",
       "      <th>4</th>\n",
       "      <td>2024-07-11 11:49:01</td>\n",
       "      <td>5</td>\n",
       "      <td>unknown</td>\n",
       "      <td>resistance</td>\n",
       "      <td>4</td>\n",
       "      <td>8</td>\n",
       "      <td>10</td>\n",
       "      <td>3</td>\n",
       "      <td>Iridonia</td>\n",
       "    </tr>\n",
       "  </tbody>\n",
       "</table>\n",
       "</div>"
      ],
      "text/plain": [
       "             timestamp  unit_id           unit_type empire_or_resistance  \\\n",
       "0  2024-07-11 11:49:05        1  resistance_soldier               empire   \n",
       "1  2024-07-11 11:49:04        2               at-st           resistance   \n",
       "2  2024-07-11 11:49:03        3               at-at           resistance   \n",
       "3  2024-07-11 11:49:02        4               at-at               empire   \n",
       "4  2024-07-11 11:49:01        5             unknown           resistance   \n",
       "\n",
       "   location_x  location_y  destination_x  destination_y homeworld  \n",
       "0           5           5             10              1  Alderaan  \n",
       "1           7           6              4              8  Corellia  \n",
       "2           4           4              6              3    Eriadu  \n",
       "3          10           1              8              7     Skako  \n",
       "4           4           8             10              3  Iridonia  "
      ]
     },
     "execution_count": 3,
     "metadata": {},
     "output_type": "execute_result"
    }
   ],
   "source": [
    "df = pd.read_csv(\"troop_movements.csv\")\n",
    "df.head()"
   ]
  },
  {
   "cell_type": "code",
   "execution_count": 6,
   "metadata": {},
   "outputs": [
    {
     "name": "stdout",
     "output_type": "stream",
     "text": [
      "empire_or_resistance\n",
      "empire        507\n",
      "resistance    493\n",
      "Name: count, dtype: int64\n"
     ]
    }
   ],
   "source": [
    "empire_resistance_count = df['empire_or_resistance'].value_counts()\n",
    "print(empire_resistance_count)"
   ]
  },
  {
   "cell_type": "code",
   "execution_count": 7,
   "metadata": {},
   "outputs": [
    {
     "name": "stdout",
     "output_type": "stream",
     "text": [
      "homeworld\n",
      "Naboo           33\n",
      "Aleen Minor     32\n",
      "Tholoth         31\n",
      "Chandrila       31\n",
      "Skako           30\n",
      "Dorin           30\n",
      "Troiken         30\n",
      "Umbara          30\n",
      "Eriadu          29\n",
      "Ryloth          28\n",
      "Vulpter         28\n",
      "Dagobah         27\n",
      "Kashyyyk        27\n",
      "Dathomir        26\n",
      "Muunilinst      25\n",
      "Kalee           25\n",
      "Shili           25\n",
      "Champala        25\n",
      "Quermia         25\n",
      "Alderaan        24\n",
      "Rodia           23\n",
      "Toydaria        23\n",
      "Haruun Kal      23\n",
      "Iktotch         23\n",
      "Ojom            23\n",
      "Mon Cala        23\n",
      "Tund            23\n",
      "Zolan           22\n",
      "Malastare       21\n",
      "Mirial          21\n",
      "Iridonia        21\n",
      "Concord Dawn    20\n",
      "Tatooine        19\n",
      "Glee Anselm     19\n",
      "Stewjon         19\n",
      "Socorro         18\n",
      "Bestine IV      17\n",
      "Corellia        17\n",
      "Sullust         17\n",
      "Cerea           17\n",
      "Serenno         16\n",
      "Trandosha       14\n",
      "Name: count, dtype: int64\n"
     ]
    }
   ],
   "source": [
    "count_homeworld = df['homeworld'].value_counts()\n",
    "print(count_homeworld)"
   ]
  },
  {
   "cell_type": "code",
   "execution_count": 8,
   "metadata": {},
   "outputs": [
    {
     "name": "stdout",
     "output_type": "stream",
     "text": [
      "unit_type\n",
      "tie_fighter           134\n",
      "at-st                 131\n",
      "unknown               131\n",
      "stormtrooper          127\n",
      "x-wing                122\n",
      "resistance_soldier    120\n",
      "tie_silencer          120\n",
      "at-at                 115\n",
      "Name: count, dtype: int64\n"
     ]
    }
   ],
   "source": [
    "count_unit_type = df['unit_type'].value_counts()\n",
    "print(count_unit_type)"
   ]
  },
  {
   "cell_type": "code",
   "execution_count": null,
   "metadata": {},
   "outputs": [],
   "source": []
  }
 ],
 "metadata": {
  "kernelspec": {
   "display_name": "Python 3",
   "language": "python",
   "name": "python3"
  },
  "language_info": {
   "codemirror_mode": {
    "name": "ipython",
    "version": 3
   },
   "file_extension": ".py",
   "mimetype": "text/x-python",
   "name": "python",
   "nbconvert_exporter": "python",
   "pygments_lexer": "ipython3",
   "version": "3.12.3"
  }
 },
 "nbformat": 4,
 "nbformat_minor": 2
}
